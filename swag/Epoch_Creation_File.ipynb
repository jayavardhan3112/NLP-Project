{
  "nbformat": 4,
  "nbformat_minor": 0,
  "metadata": {
    "colab": {
      "name": "Epoch_Creation_File.ipynb",
      "provenance": [],
      "collapsed_sections": []
    },
    "kernelspec": {
      "name": "python3",
      "display_name": "Python 3"
    },
    "language_info": {
      "name": "python"
    },
    "accelerator": "GPU"
  },
  "cells": [
    {
      "cell_type": "markdown",
      "metadata": {
        "id": "q35R_u33tSjK"
      },
      "source": [
        "# **Epochs**"
      ]
    },
    {
      "cell_type": "code",
      "metadata": {
        "id": "NJkhpOJopXJj"
      },
      "source": [
        "!pip install pytorch_lightning\n",
        "# !pip install datasets\n",
        "!pip install transformers\n",
        "\n",
        "\n",
        "   \n",
        "# !pip install git+git://github.com/huggingface/transformers@189113d8910308b9f3509c6946b2147ce57a0bf7\n",
        "# !pip install tqdm==4.43.0\n",
        "# !pip install seaborn==0.10.0\n",
        "# !pip install pandas==1.0.3\n",
        "# !pip install matplotlib==3.2.1\n",
        "# !pip install numpy==1.18.2\n",
        "# !pip install jsonnet==0.15.0\n",
        "# !pip install tensorboardx==2.0\n",
        "# !pip install torch==1.4.0\n",
        "# !pip install spacy==2.1.9\n",
        "# !pip install scikit-learn==0.22.2.post1"
      ],
      "execution_count": null,
      "outputs": []
    },
    {
      "cell_type": "code",
      "metadata": {
        "id": "NfDdZ_P4pD_M"
      },
      "source": [
        "# !pip install pytorch_lightning\n",
        "\n",
        "import torch\n",
        "# import pytorch_lightning as pl\n",
        "from torch.nn import functional as F\n",
        "import pandas as pd\n",
        "import argparse\n",
        "# from transformers import AutoConfig, AutoModelForMultipleChoice, AutoTokenizer\n",
        "from torch.utils.data import Dataset, DataLoader\n",
        "from transformers import (\n",
        "    AdamW,\n",
        "    get_linear_schedule_with_warmup\n",
        ")"
      ],
      "execution_count": 4,
      "outputs": []
    },
    {
      "cell_type": "code",
      "metadata": {
        "id": "gkpRt0YVrtMN"
      },
      "source": [
        "!pip install datasets\n",
        "from datasets import load_dataset\n",
        "\n",
        "dataset = load_dataset(\"swag\")"
      ],
      "execution_count": null,
      "outputs": []
    },
    {
      "cell_type": "code",
      "metadata": {
        "id": "Y8ATJITMr9nt"
      },
      "source": [
        "import os\n",
        "os.chdir('/content/sample_data')\n",
        "train = dataset[\"train\"]\n",
        "validation = dataset[\"validation\"]\n",
        "# test = dataset[\"test\"]\n",
        "\n",
        "df_train = pd.DataFrame(train)\n",
        "df_valid = pd.DataFrame(validation)\n",
        "df_train.sample(n=1000).to_csv(\"sst2_train.csv\")\n",
        "df_valid.sample(n=1000).to_csv(\"sst2_dev.csv\")"
      ],
      "execution_count": 6,
      "outputs": []
    },
    {
      "cell_type": "code",
      "metadata": {
        "id": "FwIR_dX0pF2I"
      },
      "source": [
        "import os\n",
        "from google.colab import drive\n",
        "os.chdir('/content/sample_data')\n",
        "# !python mcq_training_lightning.py --model_name_or_path bert-base-uncased --max_input_seq_length 100 --TRAIN_FILE sst2_train.csv --output_dir ./ --DEV_FILE sst2_dev.csv --train_batch_size 10 --eval_batch_size 10 --max_train_samples 10000 --num_train_epochs 5 --gradient_accumulation_steps 1 --save_top_k 0 --learning_rate 5e-5 --write_dev_predictions True\n",
        "!python3 mcq_training_lightning.py --model_name_or_path bert-base-uncased --hidden_dropout_prob 0.15 --max_input_seq_length 128 --output_dir ./  --predictions_file predictions.csv --TRAIN_FILE sst2_train.csv  --DEV_FILE sst2_dev.csv --train_batch_size 16 --eval_batch_size 16 --max_train_samples -1 --num_train_epochs 5 --gradient_accumulation_steps 1 --seed 42 --save_top_k -1 --learning_rate 5e-05 --write_dev_predictions"
      ],
      "execution_count": null,
      "outputs": []
    }
  ]
}